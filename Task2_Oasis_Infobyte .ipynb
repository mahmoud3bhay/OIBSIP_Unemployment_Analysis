{
 "cells": [
  {
   "cell_type": "code",
   "execution_count": 2,
   "id": "1bd40a94",
   "metadata": {},
   "outputs": [],
   "source": [
    "import pandas as pd "
   ]
  },
  {
   "cell_type": "code",
   "execution_count": 3,
   "id": "e65c6336",
   "metadata": {},
   "outputs": [],
   "source": [
    "data = pd.read_csv('D:\\\\Oasis Infobyte Internship\\\\Task2\\\\Unemployment in India.csv')"
   ]
  },
  {
   "cell_type": "code",
   "execution_count": 4,
   "id": "921f11c2",
   "metadata": {},
   "outputs": [
    {
     "data": {
      "text/html": [
       "<div>\n",
       "<style scoped>\n",
       "    .dataframe tbody tr th:only-of-type {\n",
       "        vertical-align: middle;\n",
       "    }\n",
       "\n",
       "    .dataframe tbody tr th {\n",
       "        vertical-align: top;\n",
       "    }\n",
       "\n",
       "    .dataframe thead th {\n",
       "        text-align: right;\n",
       "    }\n",
       "</style>\n",
       "<table border=\"1\" class=\"dataframe\">\n",
       "  <thead>\n",
       "    <tr style=\"text-align: right;\">\n",
       "      <th></th>\n",
       "      <th>Region</th>\n",
       "      <th>Date</th>\n",
       "      <th>Frequency</th>\n",
       "      <th>Estimated Unemployment Rate (%)</th>\n",
       "      <th>Estimated Employed</th>\n",
       "      <th>Estimated Labour Participation Rate (%)</th>\n",
       "      <th>Area</th>\n",
       "    </tr>\n",
       "  </thead>\n",
       "  <tbody>\n",
       "    <tr>\n",
       "      <th>0</th>\n",
       "      <td>Andhra Pradesh</td>\n",
       "      <td>31-05-2019</td>\n",
       "      <td>Monthly</td>\n",
       "      <td>3.65</td>\n",
       "      <td>11999139.0</td>\n",
       "      <td>43.24</td>\n",
       "      <td>Rural</td>\n",
       "    </tr>\n",
       "    <tr>\n",
       "      <th>1</th>\n",
       "      <td>Andhra Pradesh</td>\n",
       "      <td>30-06-2019</td>\n",
       "      <td>Monthly</td>\n",
       "      <td>3.05</td>\n",
       "      <td>11755881.0</td>\n",
       "      <td>42.05</td>\n",
       "      <td>Rural</td>\n",
       "    </tr>\n",
       "    <tr>\n",
       "      <th>2</th>\n",
       "      <td>Andhra Pradesh</td>\n",
       "      <td>31-07-2019</td>\n",
       "      <td>Monthly</td>\n",
       "      <td>3.75</td>\n",
       "      <td>12086707.0</td>\n",
       "      <td>43.50</td>\n",
       "      <td>Rural</td>\n",
       "    </tr>\n",
       "    <tr>\n",
       "      <th>3</th>\n",
       "      <td>Andhra Pradesh</td>\n",
       "      <td>31-08-2019</td>\n",
       "      <td>Monthly</td>\n",
       "      <td>3.32</td>\n",
       "      <td>12285693.0</td>\n",
       "      <td>43.97</td>\n",
       "      <td>Rural</td>\n",
       "    </tr>\n",
       "    <tr>\n",
       "      <th>4</th>\n",
       "      <td>Andhra Pradesh</td>\n",
       "      <td>30-09-2019</td>\n",
       "      <td>Monthly</td>\n",
       "      <td>5.17</td>\n",
       "      <td>12256762.0</td>\n",
       "      <td>44.68</td>\n",
       "      <td>Rural</td>\n",
       "    </tr>\n",
       "    <tr>\n",
       "      <th>...</th>\n",
       "      <td>...</td>\n",
       "      <td>...</td>\n",
       "      <td>...</td>\n",
       "      <td>...</td>\n",
       "      <td>...</td>\n",
       "      <td>...</td>\n",
       "      <td>...</td>\n",
       "    </tr>\n",
       "    <tr>\n",
       "      <th>763</th>\n",
       "      <td>NaN</td>\n",
       "      <td>NaN</td>\n",
       "      <td>NaN</td>\n",
       "      <td>NaN</td>\n",
       "      <td>NaN</td>\n",
       "      <td>NaN</td>\n",
       "      <td>NaN</td>\n",
       "    </tr>\n",
       "    <tr>\n",
       "      <th>764</th>\n",
       "      <td>NaN</td>\n",
       "      <td>NaN</td>\n",
       "      <td>NaN</td>\n",
       "      <td>NaN</td>\n",
       "      <td>NaN</td>\n",
       "      <td>NaN</td>\n",
       "      <td>NaN</td>\n",
       "    </tr>\n",
       "    <tr>\n",
       "      <th>765</th>\n",
       "      <td>NaN</td>\n",
       "      <td>NaN</td>\n",
       "      <td>NaN</td>\n",
       "      <td>NaN</td>\n",
       "      <td>NaN</td>\n",
       "      <td>NaN</td>\n",
       "      <td>NaN</td>\n",
       "    </tr>\n",
       "    <tr>\n",
       "      <th>766</th>\n",
       "      <td>NaN</td>\n",
       "      <td>NaN</td>\n",
       "      <td>NaN</td>\n",
       "      <td>NaN</td>\n",
       "      <td>NaN</td>\n",
       "      <td>NaN</td>\n",
       "      <td>NaN</td>\n",
       "    </tr>\n",
       "    <tr>\n",
       "      <th>767</th>\n",
       "      <td>NaN</td>\n",
       "      <td>NaN</td>\n",
       "      <td>NaN</td>\n",
       "      <td>NaN</td>\n",
       "      <td>NaN</td>\n",
       "      <td>NaN</td>\n",
       "      <td>NaN</td>\n",
       "    </tr>\n",
       "  </tbody>\n",
       "</table>\n",
       "<p>768 rows × 7 columns</p>\n",
       "</div>"
      ],
      "text/plain": [
       "             Region         Date  Frequency   Estimated Unemployment Rate (%)  \\\n",
       "0    Andhra Pradesh   31-05-2019    Monthly                              3.65   \n",
       "1    Andhra Pradesh   30-06-2019    Monthly                              3.05   \n",
       "2    Andhra Pradesh   31-07-2019    Monthly                              3.75   \n",
       "3    Andhra Pradesh   31-08-2019    Monthly                              3.32   \n",
       "4    Andhra Pradesh   30-09-2019    Monthly                              5.17   \n",
       "..              ...          ...        ...                               ...   \n",
       "763             NaN          NaN        NaN                               NaN   \n",
       "764             NaN          NaN        NaN                               NaN   \n",
       "765             NaN          NaN        NaN                               NaN   \n",
       "766             NaN          NaN        NaN                               NaN   \n",
       "767             NaN          NaN        NaN                               NaN   \n",
       "\n",
       "      Estimated Employed   Estimated Labour Participation Rate (%)   Area  \n",
       "0             11999139.0                                     43.24  Rural  \n",
       "1             11755881.0                                     42.05  Rural  \n",
       "2             12086707.0                                     43.50  Rural  \n",
       "3             12285693.0                                     43.97  Rural  \n",
       "4             12256762.0                                     44.68  Rural  \n",
       "..                   ...                                       ...    ...  \n",
       "763                  NaN                                       NaN    NaN  \n",
       "764                  NaN                                       NaN    NaN  \n",
       "765                  NaN                                       NaN    NaN  \n",
       "766                  NaN                                       NaN    NaN  \n",
       "767                  NaN                                       NaN    NaN  \n",
       "\n",
       "[768 rows x 7 columns]"
      ]
     },
     "execution_count": 4,
     "metadata": {},
     "output_type": "execute_result"
    }
   ],
   "source": [
    "data "
   ]
  },
  {
   "cell_type": "code",
   "execution_count": 5,
   "id": "fc8f21e2",
   "metadata": {},
   "outputs": [
    {
     "data": {
      "text/plain": [
       "Region                                      28\n",
       " Date                                       28\n",
       " Frequency                                  28\n",
       " Estimated Unemployment Rate (%)            28\n",
       " Estimated Employed                         28\n",
       " Estimated Labour Participation Rate (%)    28\n",
       "Area                                        28\n",
       "dtype: int64"
      ]
     },
     "execution_count": 5,
     "metadata": {},
     "output_type": "execute_result"
    }
   ],
   "source": [
    "data.isnull().sum()"
   ]
  },
  {
   "cell_type": "code",
   "execution_count": 10,
   "id": "d4bbb7f6",
   "metadata": {},
   "outputs": [
    {
     "data": {
      "text/html": [
       "<div>\n",
       "<style scoped>\n",
       "    .dataframe tbody tr th:only-of-type {\n",
       "        vertical-align: middle;\n",
       "    }\n",
       "\n",
       "    .dataframe tbody tr th {\n",
       "        vertical-align: top;\n",
       "    }\n",
       "\n",
       "    .dataframe thead th {\n",
       "        text-align: right;\n",
       "    }\n",
       "</style>\n",
       "<table border=\"1\" class=\"dataframe\">\n",
       "  <thead>\n",
       "    <tr style=\"text-align: right;\">\n",
       "      <th></th>\n",
       "      <th>Region</th>\n",
       "      <th>Date</th>\n",
       "      <th>Frequency</th>\n",
       "      <th>Estimated Unemployment Rate (%)</th>\n",
       "      <th>Estimated Employed</th>\n",
       "      <th>Estimated Labour Participation Rate (%)</th>\n",
       "      <th>Area</th>\n",
       "    </tr>\n",
       "  </thead>\n",
       "  <tbody>\n",
       "    <tr>\n",
       "      <th>0</th>\n",
       "      <td>Andhra Pradesh</td>\n",
       "      <td>31-05-2019</td>\n",
       "      <td>Monthly</td>\n",
       "      <td>3.65</td>\n",
       "      <td>11999139.0</td>\n",
       "      <td>43.24</td>\n",
       "      <td>Rural</td>\n",
       "    </tr>\n",
       "    <tr>\n",
       "      <th>1</th>\n",
       "      <td>Andhra Pradesh</td>\n",
       "      <td>30-06-2019</td>\n",
       "      <td>Monthly</td>\n",
       "      <td>3.05</td>\n",
       "      <td>11755881.0</td>\n",
       "      <td>42.05</td>\n",
       "      <td>Rural</td>\n",
       "    </tr>\n",
       "    <tr>\n",
       "      <th>2</th>\n",
       "      <td>Andhra Pradesh</td>\n",
       "      <td>31-07-2019</td>\n",
       "      <td>Monthly</td>\n",
       "      <td>3.75</td>\n",
       "      <td>12086707.0</td>\n",
       "      <td>43.50</td>\n",
       "      <td>Rural</td>\n",
       "    </tr>\n",
       "    <tr>\n",
       "      <th>3</th>\n",
       "      <td>Andhra Pradesh</td>\n",
       "      <td>31-08-2019</td>\n",
       "      <td>Monthly</td>\n",
       "      <td>3.32</td>\n",
       "      <td>12285693.0</td>\n",
       "      <td>43.97</td>\n",
       "      <td>Rural</td>\n",
       "    </tr>\n",
       "    <tr>\n",
       "      <th>4</th>\n",
       "      <td>Andhra Pradesh</td>\n",
       "      <td>30-09-2019</td>\n",
       "      <td>Monthly</td>\n",
       "      <td>5.17</td>\n",
       "      <td>12256762.0</td>\n",
       "      <td>44.68</td>\n",
       "      <td>Rural</td>\n",
       "    </tr>\n",
       "    <tr>\n",
       "      <th>...</th>\n",
       "      <td>...</td>\n",
       "      <td>...</td>\n",
       "      <td>...</td>\n",
       "      <td>...</td>\n",
       "      <td>...</td>\n",
       "      <td>...</td>\n",
       "      <td>...</td>\n",
       "    </tr>\n",
       "    <tr>\n",
       "      <th>749</th>\n",
       "      <td>West Bengal</td>\n",
       "      <td>29-02-2020</td>\n",
       "      <td>Monthly</td>\n",
       "      <td>7.55</td>\n",
       "      <td>10871168.0</td>\n",
       "      <td>44.09</td>\n",
       "      <td>Urban</td>\n",
       "    </tr>\n",
       "    <tr>\n",
       "      <th>750</th>\n",
       "      <td>West Bengal</td>\n",
       "      <td>31-03-2020</td>\n",
       "      <td>Monthly</td>\n",
       "      <td>6.67</td>\n",
       "      <td>10806105.0</td>\n",
       "      <td>43.34</td>\n",
       "      <td>Urban</td>\n",
       "    </tr>\n",
       "    <tr>\n",
       "      <th>751</th>\n",
       "      <td>West Bengal</td>\n",
       "      <td>30-04-2020</td>\n",
       "      <td>Monthly</td>\n",
       "      <td>15.63</td>\n",
       "      <td>9299466.0</td>\n",
       "      <td>41.20</td>\n",
       "      <td>Urban</td>\n",
       "    </tr>\n",
       "    <tr>\n",
       "      <th>752</th>\n",
       "      <td>West Bengal</td>\n",
       "      <td>31-05-2020</td>\n",
       "      <td>Monthly</td>\n",
       "      <td>15.22</td>\n",
       "      <td>9240903.0</td>\n",
       "      <td>40.67</td>\n",
       "      <td>Urban</td>\n",
       "    </tr>\n",
       "    <tr>\n",
       "      <th>753</th>\n",
       "      <td>West Bengal</td>\n",
       "      <td>30-06-2020</td>\n",
       "      <td>Monthly</td>\n",
       "      <td>9.86</td>\n",
       "      <td>9088931.0</td>\n",
       "      <td>37.57</td>\n",
       "      <td>Urban</td>\n",
       "    </tr>\n",
       "  </tbody>\n",
       "</table>\n",
       "<p>740 rows × 7 columns</p>\n",
       "</div>"
      ],
      "text/plain": [
       "             Region         Date  Frequency   Estimated Unemployment Rate (%)  \\\n",
       "0    Andhra Pradesh   31-05-2019    Monthly                              3.65   \n",
       "1    Andhra Pradesh   30-06-2019    Monthly                              3.05   \n",
       "2    Andhra Pradesh   31-07-2019    Monthly                              3.75   \n",
       "3    Andhra Pradesh   31-08-2019    Monthly                              3.32   \n",
       "4    Andhra Pradesh   30-09-2019    Monthly                              5.17   \n",
       "..              ...          ...        ...                               ...   \n",
       "749     West Bengal   29-02-2020    Monthly                              7.55   \n",
       "750     West Bengal   31-03-2020    Monthly                              6.67   \n",
       "751     West Bengal   30-04-2020    Monthly                             15.63   \n",
       "752     West Bengal   31-05-2020    Monthly                             15.22   \n",
       "753     West Bengal   30-06-2020    Monthly                              9.86   \n",
       "\n",
       "      Estimated Employed   Estimated Labour Participation Rate (%)   Area  \n",
       "0             11999139.0                                     43.24  Rural  \n",
       "1             11755881.0                                     42.05  Rural  \n",
       "2             12086707.0                                     43.50  Rural  \n",
       "3             12285693.0                                     43.97  Rural  \n",
       "4             12256762.0                                     44.68  Rural  \n",
       "..                   ...                                       ...    ...  \n",
       "749           10871168.0                                     44.09  Urban  \n",
       "750           10806105.0                                     43.34  Urban  \n",
       "751            9299466.0                                     41.20  Urban  \n",
       "752            9240903.0                                     40.67  Urban  \n",
       "753            9088931.0                                     37.57  Urban  \n",
       "\n",
       "[740 rows x 7 columns]"
      ]
     },
     "execution_count": 10,
     "metadata": {},
     "output_type": "execute_result"
    }
   ],
   "source": [
    "data = data.dropna()\n",
    "data = pd.DataFrame(data)\n",
    "data"
   ]
  },
  {
   "cell_type": "code",
   "execution_count": 12,
   "id": "cb0a866e",
   "metadata": {},
   "outputs": [
    {
     "name": "stdout",
     "output_type": "stream",
     "text": [
      "<class 'pandas.core.frame.DataFrame'>\n",
      "Int64Index: 740 entries, 0 to 753\n",
      "Data columns (total 7 columns):\n",
      " #   Column                                    Non-Null Count  Dtype  \n",
      "---  ------                                    --------------  -----  \n",
      " 0   Region                                    740 non-null    object \n",
      " 1    Date                                     740 non-null    object \n",
      " 2    Frequency                                740 non-null    object \n",
      " 3    Estimated Unemployment Rate (%)          740 non-null    float64\n",
      " 4    Estimated Employed                       740 non-null    float64\n",
      " 5    Estimated Labour Participation Rate (%)  740 non-null    float64\n",
      " 6   Area                                      740 non-null    object \n",
      "dtypes: float64(3), object(4)\n",
      "memory usage: 46.2+ KB\n"
     ]
    }
   ],
   "source": [
    "data.info()"
   ]
  },
  {
   "cell_type": "code",
   "execution_count": null,
   "id": "c6e7aad0",
   "metadata": {},
   "outputs": [],
   "source": []
  },
  {
   "cell_type": "code",
   "execution_count": 17,
   "id": "5065c967",
   "metadata": {},
   "outputs": [
    {
     "data": {
      "text/plain": [
       "Andhra Pradesh      28\n",
       "Kerala              28\n",
       "West Bengal         28\n",
       "Uttar Pradesh       28\n",
       "Tripura             28\n",
       "Telangana           28\n",
       "Tamil Nadu          28\n",
       "Rajasthan           28\n",
       "Punjab              28\n",
       "Odisha              28\n",
       "Madhya Pradesh      28\n",
       "Maharashtra         28\n",
       "Karnataka           28\n",
       "Jharkhand           28\n",
       "Himachal Pradesh    28\n",
       "Haryana             28\n",
       "Gujarat             28\n",
       "Delhi               28\n",
       "Chhattisgarh        28\n",
       "Bihar               28\n",
       "Meghalaya           27\n",
       "Uttarakhand         27\n",
       "Assam               26\n",
       "Puducherry          26\n",
       "Goa                 24\n",
       "Jammu & Kashmir     21\n",
       "Sikkim              17\n",
       "Chandigarh          12\n",
       "Name: Region, dtype: int64"
      ]
     },
     "execution_count": 17,
     "metadata": {},
     "output_type": "execute_result"
    }
   ],
   "source": [
    "data['Region'].value_counts()"
   ]
  },
  {
   "cell_type": "code",
   "execution_count": 18,
   "id": "acf7c2b7",
   "metadata": {},
   "outputs": [
    {
     "data": {
      "text/plain": [
       "['Andhra Pradesh',\n",
       " 'Kerala',\n",
       " 'West Bengal',\n",
       " 'Uttar Pradesh',\n",
       " 'Tripura',\n",
       " 'Telangana',\n",
       " 'Tamil Nadu',\n",
       " 'Rajasthan',\n",
       " 'Punjab',\n",
       " 'Odisha',\n",
       " 'Madhya Pradesh',\n",
       " 'Maharashtra',\n",
       " 'Karnataka',\n",
       " 'Jharkhand',\n",
       " 'Himachal Pradesh',\n",
       " 'Haryana',\n",
       " 'Gujarat',\n",
       " 'Delhi',\n",
       " 'Chhattisgarh',\n",
       " 'Bihar',\n",
       " 'Meghalaya',\n",
       " 'Uttarakhand',\n",
       " 'Assam',\n",
       " 'Puducherry',\n",
       " 'Goa',\n",
       " 'Jammu & Kashmir',\n",
       " 'Sikkim',\n",
       " 'Chandigarh']"
      ]
     },
     "execution_count": 18,
     "metadata": {},
     "output_type": "execute_result"
    }
   ],
   "source": [
    "# displaying \"Region\" Data \n",
    "\n",
    "places  = list(dict(data['Region'].value_counts()).keys())\n",
    "places "
   ]
  },
  {
   "cell_type": "code",
   "execution_count": 19,
   "id": "f130439b",
   "metadata": {},
   "outputs": [],
   "source": [
    "vals = list(dict(data['Region'].value_counts()).values())"
   ]
  },
  {
   "cell_type": "code",
   "execution_count": 20,
   "id": "e2e72a09",
   "metadata": {},
   "outputs": [
    {
     "data": {
      "image/png": "[encoded data removed]",
      "text/plain": [
       "<Figure size 2000x1800 with 1 Axes>"
      ]
     },
     "metadata": {},
     "output_type": "display_data"
    }
   ],
   "source": [
    "import seaborn as sns \n",
    "import matplotlib.pyplot as plt \n",
    "#sns.countplot(x='Region', data=data)\n",
    "\n",
    "plt.figure (figsize=(20,18))\n",
    "plt.bar(places,vals)\n",
    "plt.xlabel('Regions')\n",
    "\n",
    "plt.ylabel('Count')\n",
    "\n",
    "plt.title('Distribution of the region variable')\n",
    "\n",
    "plt.show()"
   ]
  },
  {
   "cell_type": "code",
   "execution_count": 28,
   "id": "ef78334c",
   "metadata": {},
   "outputs": [
    {
     "data": {
      "text/plain": [
       "Index(['Region', ' Date', ' Frequency', ' Estimated Unemployment Rate (%)',\n",
       "       ' Estimated Employed', ' Estimated Labour Participation Rate (%)',\n",
       "       'Area'],\n",
       "      dtype='object')"
      ]
     },
     "execution_count": 28,
     "metadata": {},
     "output_type": "execute_result"
    }
   ],
   "source": [
    "data.columns "
   ]
  },
  {
   "cell_type": "code",
   "execution_count": 21,
   "id": "665e111a",
   "metadata": {},
   "outputs": [
    {
     "data": {
      "text/plain": [
       " 31-10-2019    55\n",
       " 30-11-2019    55\n",
       " 31-05-2019    54\n",
       " 30-06-2019    54\n",
       " 31-07-2019    54\n",
       " 31-08-2019    53\n",
       " 31-12-2019    53\n",
       " 31-01-2020    53\n",
       " 29-02-2020    53\n",
       " 30-09-2019    52\n",
       " 31-03-2020    52\n",
       " 30-04-2020    51\n",
       " 31-05-2020    51\n",
       " 30-06-2020    50\n",
       "Name:  Date, dtype: int64"
      ]
     },
     "execution_count": 21,
     "metadata": {},
     "output_type": "execute_result"
    }
   ],
   "source": [
    "data[' Date'].value_counts()"
   ]
  },
  {
   "cell_type": "code",
   "execution_count": 24,
   "id": "8219a73b",
   "metadata": {},
   "outputs": [],
   "source": [
    "histories = list(dict(data[' Date'].value_counts()).keys())\n"
   ]
  },
  {
   "cell_type": "code",
   "execution_count": 25,
   "id": "b9bef853",
   "metadata": {},
   "outputs": [],
   "source": [
    "histry_vals = list(dict(data[' Date'].value_counts()).values())"
   ]
  },
  {
   "cell_type": "code",
   "execution_count": 26,
   "id": "0a701229",
   "metadata": {},
   "outputs": [
    {
     "data": {
      "text/plain": [
       "(array([108.,  54.,  53., 107.,  55.,  53., 106.,  52.,  51., 101.]),\n",
       " array([ 0. ,  1.3,  2.6,  3.9,  5.2,  6.5,  7.8,  9.1, 10.4, 11.7, 13. ]),\n",
       " <BarContainer object of 10 artists>)"
      ]
     },
     "execution_count": 26,
     "metadata": {},
     "output_type": "execute_result"
    },
    {
     "data": {
      "image/png": "[encoded data removed]",
      "text/plain": [
       "<Figure size 640x480 with 1 Axes>"
      ]
     },
     "metadata": {},
     "output_type": "display_data"
    }
   ],
   "source": [
    "plt.hist(data[' Date'])"
   ]
  },
  {
   "cell_type": "code",
   "execution_count": 98,
   "id": "e6961b67",
   "metadata": {},
   "outputs": [
    {
     "data": {
      "image/png": "[encoded data removed]",
      "text/plain": [
       "<Figure size 1500x1200 with 1 Axes>"
      ]
     },
     "metadata": {},
     "output_type": "display_data"
    }
   ],
   "source": [
    "plt.figure (figsize=(15,12))\n",
    "plt.bar(histories,histry_vals)\n",
    "plt.xlabel('histories ')\n",
    "\n",
    "plt.ylabel('Count')\n",
    "\n",
    "plt.title('history')\n",
    "\n",
    "plt.show()"
   ]
  },
  {
   "cell_type": "code",
   "execution_count": 102,
   "id": "2d54fec2",
   "metadata": {},
   "outputs": [
    {
     "data": {
      "text/plain": [
       " Date\n",
       " 29-02-2020     9.964717\n",
       " 30-04-2020    23.641569\n",
       " 30-06-2019     9.303333\n",
       " 30-06-2020    11.903600\n",
       " 30-09-2019     9.051731\n",
       " 30-11-2019     9.868364\n",
       " 31-01-2020     9.950755\n",
       " 31-03-2020    10.700577\n",
       " 31-05-2019     8.874259\n",
       " 31-05-2020    24.875294\n",
       " 31-07-2019     9.033889\n",
       " 31-08-2019     9.637925\n",
       " 31-10-2019     9.900909\n",
       " 31-12-2019     9.497358\n",
       "Name:  Estimated Unemployment Rate (%), dtype: float64"
      ]
     },
     "execution_count": 102,
     "metadata": {},
     "output_type": "execute_result"
    }
   ],
   "source": [
    "date_count = data.groupby([' Date'])[' Estimated Unemployment Rate (%)'].mean()\n",
    "date_count"
   ]
  },
  {
   "cell_type": "code",
   "execution_count": 103,
   "id": "bd3f78ad",
   "metadata": {},
   "outputs": [],
   "source": [
    "dates = date_count.keys()\n",
    "vlls = list(dict(date_count).values())"
   ]
  },
  {
   "cell_type": "code",
   "execution_count": 105,
   "id": "c3870c38",
   "metadata": {},
   "outputs": [
    {
     "data": {
      "image/png": "[encoded data removed]",
      "text/plain": [
       "<Figure size 640x480 with 1 Axes>"
      ]
     },
     "metadata": {},
     "output_type": "display_data"
    }
   ],
   "source": [
    "plt.scatter(data[' Date'] , data[' Estimated Unemployment Rate (%)']) \n",
    "plt.title(\"dates & Estimated Unemployment Rate (%)\")\n",
    "plt.show()"
   ]
  },
  {
   "cell_type": "code",
   "execution_count": 104,
   "id": "ee4fcaf1",
   "metadata": {},
   "outputs": [
    {
     "data": {
      "image/png": "[encoded data removed]",
      "text/plain": [
       "<Figure size 640x480 with 1 Axes>"
      ]
     },
     "metadata": {},
     "output_type": "display_data"
    }
   ],
   "source": [
    "plt.scatter(dates , vlls)\n",
    "plt.title(\"dates & Estimated Unemployment Rate (%)\")\n",
    "plt.show()"
   ]
  },
  {
   "cell_type": "code",
   "execution_count": 106,
   "id": "1619bc17",
   "metadata": {},
   "outputs": [
    {
     "data": {
      "text/plain": [
       " Date\n",
       " 29-02-2020    43.723019\n",
       " 30-04-2020    35.141176\n",
       " 30-06-2019    43.750556\n",
       " 30-06-2020    40.548400\n",
       " 30-09-2019    44.301346\n",
       " 30-11-2019    44.110545\n",
       " 31-01-2020    44.051321\n",
       " 31-03-2020    43.084038\n",
       " 31-05-2019    43.902963\n",
       " 31-05-2020    38.496863\n",
       " 31-07-2019    43.706667\n",
       " 31-08-2019    43.646792\n",
       " 31-10-2019    44.001273\n",
       " 31-12-2019    43.667358\n",
       "Name:  Estimated Labour Participation Rate (%), dtype: float64"
      ]
     },
     "execution_count": 106,
     "metadata": {},
     "output_type": "execute_result"
    }
   ],
   "source": [
    "labor_count = data.groupby([' Date'])[' Estimated Labour Participation Rate (%)'].mean()\n",
    "labor_count"
   ]
  },
  {
   "cell_type": "code",
   "execution_count": 107,
   "id": "d86f2437",
   "metadata": {},
   "outputs": [],
   "source": [
    "dates = date_count.keys()\n",
    "vlls = list(dict(labor_count).values())"
   ]
  },
  {
   "cell_type": "code",
   "execution_count": 31,
   "id": "311dc743",
   "metadata": {},
   "outputs": [
    {
     "data": {
      "text/plain": [
       "<function matplotlib.pyplot.show(close=None, block=None)>"
      ]
     },
     "execution_count": 31,
     "metadata": {},
     "output_type": "execute_result"
    },
    {
     "data": {
      "image/png": "[encoded data removed]",
      "text/plain": [
       "<Figure size 640x480 with 1 Axes>"
      ]
     },
     "metadata": {},
     "output_type": "display_data"
    }
   ],
   "source": [
    "plt.scatter(data[' Date'] , data[' Estimated Labour Participation Rate (%)'])\n",
    "plt.title(\"Date & Estimated Labour Participation Rate (%)\")\n",
    "plt.show "
   ]
  },
  {
   "cell_type": "code",
   "execution_count": 108,
   "id": "3c74178d",
   "metadata": {},
   "outputs": [
    {
     "data": {
      "image/png": "[encoded data removed]",
      "text/plain": [
       "<Figure size 640x480 with 1 Axes>"
      ]
     },
     "metadata": {},
     "output_type": "display_data"
    }
   ],
   "source": [
    "plt.scatter(dates , vlls)\n",
    "plt.title(\"dates & Estimated labour participation Rate (%)\")\n",
    "plt.show()"
   ]
  },
  {
   "cell_type": "code",
   "execution_count": null,
   "id": "272ea31a",
   "metadata": {},
   "outputs": [],
   "source": []
  },
  {
   "cell_type": "code",
   "execution_count": 30,
   "id": "d0759409",
   "metadata": {},
   "outputs": [
    {
     "data": {
      "text/plain": [
       "Index(['Region', ' Date', ' Frequency', ' Estimated Unemployment Rate (%)',\n",
       "       ' Estimated Employed', ' Estimated Labour Participation Rate (%)',\n",
       "       'Area'],\n",
       "      dtype='object')"
      ]
     },
     "execution_count": 30,
     "metadata": {},
     "output_type": "execute_result"
    }
   ],
   "source": [
    "data.columns "
   ]
  },
  {
   "cell_type": "code",
   "execution_count": null,
   "id": "6da29640",
   "metadata": {},
   "outputs": [],
   "source": []
  },
  {
   "cell_type": "code",
   "execution_count": null,
   "id": "0170763e",
   "metadata": {},
   "outputs": [],
   "source": []
  },
  {
   "cell_type": "code",
   "execution_count": 32,
   "id": "f535ce7f",
   "metadata": {},
   "outputs": [
    {
     "data": {
      "text/plain": [
       "array([' Monthly', 'Monthly'], dtype=object)"
      ]
     },
     "execution_count": 32,
     "metadata": {},
     "output_type": "execute_result"
    }
   ],
   "source": [
    "data[' Frequency'].unique()"
   ]
  },
  {
   "cell_type": "code",
   "execution_count": 33,
   "id": "34ec9442",
   "metadata": {},
   "outputs": [
    {
     "name": "stdout",
     "output_type": "stream",
     "text": [
      "<class 'pandas.core.series.Series'>\n",
      "Int64Index: 740 entries, 0 to 753\n",
      "Series name:  Frequency\n",
      "Non-Null Count  Dtype \n",
      "--------------  ----- \n",
      "740 non-null    object\n",
      "dtypes: object(1)\n",
      "memory usage: 11.6+ KB\n"
     ]
    }
   ],
   "source": [
    "data[' Frequency'].info()"
   ]
  },
  {
   "cell_type": "code",
   "execution_count": 34,
   "id": "a662f2cc",
   "metadata": {},
   "outputs": [
    {
     "data": {
      "text/plain": [
       "{'Monthly': 381, ' Monthly': 359}"
      ]
     },
     "execution_count": 34,
     "metadata": {},
     "output_type": "execute_result"
    }
   ],
   "source": [
    "dict(data[' Frequency'].value_counts())"
   ]
  },
  {
   "cell_type": "code",
   "execution_count": 35,
   "id": "cc1d1e57",
   "metadata": {},
   "outputs": [],
   "source": [
    "# there is one value in the column \"Frequency \" so I will drop it \n",
    "data = data.drop(columns =[' Frequency'])"
   ]
  },
  {
   "cell_type": "code",
   "execution_count": 36,
   "id": "c632a181",
   "metadata": {},
   "outputs": [
    {
     "data": {
      "text/html": [
       "<div>\n",
       "<style scoped>\n",
       "    .dataframe tbody tr th:only-of-type {\n",
       "        vertical-align: middle;\n",
       "    }\n",
       "\n",
       "    .dataframe tbody tr th {\n",
       "        vertical-align: top;\n",
       "    }\n",
       "\n",
       "    .dataframe thead th {\n",
       "        text-align: right;\n",
       "    }\n",
       "</style>\n",
       "<table border=\"1\" class=\"dataframe\">\n",
       "  <thead>\n",
       "    <tr style=\"text-align: right;\">\n",
       "      <th></th>\n",
       "      <th>Region</th>\n",
       "      <th>Date</th>\n",
       "      <th>Estimated Unemployment Rate (%)</th>\n",
       "      <th>Estimated Employed</th>\n",
       "      <th>Estimated Labour Participation Rate (%)</th>\n",
       "      <th>Area</th>\n",
       "    </tr>\n",
       "  </thead>\n",
       "  <tbody>\n",
       "    <tr>\n",
       "      <th>0</th>\n",
       "      <td>Andhra Pradesh</td>\n",
       "      <td>31-05-2019</td>\n",
       "      <td>3.65</td>\n",
       "      <td>11999139.0</td>\n",
       "      <td>43.24</td>\n",
       "      <td>Rural</td>\n",
       "    </tr>\n",
       "    <tr>\n",
       "      <th>1</th>\n",
       "      <td>Andhra Pradesh</td>\n",
       "      <td>30-06-2019</td>\n",
       "      <td>3.05</td>\n",
       "      <td>11755881.0</td>\n",
       "      <td>42.05</td>\n",
       "      <td>Rural</td>\n",
       "    </tr>\n",
       "    <tr>\n",
       "      <th>2</th>\n",
       "      <td>Andhra Pradesh</td>\n",
       "      <td>31-07-2019</td>\n",
       "      <td>3.75</td>\n",
       "      <td>12086707.0</td>\n",
       "      <td>43.50</td>\n",
       "      <td>Rural</td>\n",
       "    </tr>\n",
       "    <tr>\n",
       "      <th>3</th>\n",
       "      <td>Andhra Pradesh</td>\n",
       "      <td>31-08-2019</td>\n",
       "      <td>3.32</td>\n",
       "      <td>12285693.0</td>\n",
       "      <td>43.97</td>\n",
       "      <td>Rural</td>\n",
       "    </tr>\n",
       "    <tr>\n",
       "      <th>4</th>\n",
       "      <td>Andhra Pradesh</td>\n",
       "      <td>30-09-2019</td>\n",
       "      <td>5.17</td>\n",
       "      <td>12256762.0</td>\n",
       "      <td>44.68</td>\n",
       "      <td>Rural</td>\n",
       "    </tr>\n",
       "    <tr>\n",
       "      <th>...</th>\n",
       "      <td>...</td>\n",
       "      <td>...</td>\n",
       "      <td>...</td>\n",
       "      <td>...</td>\n",
       "      <td>...</td>\n",
       "      <td>...</td>\n",
       "    </tr>\n",
       "    <tr>\n",
       "      <th>749</th>\n",
       "      <td>West Bengal</td>\n",
       "      <td>29-02-2020</td>\n",
       "      <td>7.55</td>\n",
       "      <td>10871168.0</td>\n",
       "      <td>44.09</td>\n",
       "      <td>Urban</td>\n",
       "    </tr>\n",
       "    <tr>\n",
       "      <th>750</th>\n",
       "      <td>West Bengal</td>\n",
       "      <td>31-03-2020</td>\n",
       "      <td>6.67</td>\n",
       "      <td>10806105.0</td>\n",
       "      <td>43.34</td>\n",
       "      <td>Urban</td>\n",
       "    </tr>\n",
       "    <tr>\n",
       "      <th>751</th>\n",
       "      <td>West Bengal</td>\n",
       "      <td>30-04-2020</td>\n",
       "      <td>15.63</td>\n",
       "      <td>9299466.0</td>\n",
       "      <td>41.20</td>\n",
       "      <td>Urban</td>\n",
       "    </tr>\n",
       "    <tr>\n",
       "      <th>752</th>\n",
       "      <td>West Bengal</td>\n",
       "      <td>31-05-2020</td>\n",
       "      <td>15.22</td>\n",
       "      <td>9240903.0</td>\n",
       "      <td>40.67</td>\n",
       "      <td>Urban</td>\n",
       "    </tr>\n",
       "    <tr>\n",
       "      <th>753</th>\n",
       "      <td>West Bengal</td>\n",
       "      <td>30-06-2020</td>\n",
       "      <td>9.86</td>\n",
       "      <td>9088931.0</td>\n",
       "      <td>37.57</td>\n",
       "      <td>Urban</td>\n",
       "    </tr>\n",
       "  </tbody>\n",
       "</table>\n",
       "<p>740 rows × 6 columns</p>\n",
       "</div>"
      ],
      "text/plain": [
       "             Region         Date   Estimated Unemployment Rate (%)  \\\n",
       "0    Andhra Pradesh   31-05-2019                              3.65   \n",
       "1    Andhra Pradesh   30-06-2019                              3.05   \n",
       "2    Andhra Pradesh   31-07-2019                              3.75   \n",
       "3    Andhra Pradesh   31-08-2019                              3.32   \n",
       "4    Andhra Pradesh   30-09-2019                              5.17   \n",
       "..              ...          ...                               ...   \n",
       "749     West Bengal   29-02-2020                              7.55   \n",
       "750     West Bengal   31-03-2020                              6.67   \n",
       "751     West Bengal   30-04-2020                             15.63   \n",
       "752     West Bengal   31-05-2020                             15.22   \n",
       "753     West Bengal   30-06-2020                              9.86   \n",
       "\n",
       "      Estimated Employed   Estimated Labour Participation Rate (%)   Area  \n",
       "0             11999139.0                                     43.24  Rural  \n",
       "1             11755881.0                                     42.05  Rural  \n",
       "2             12086707.0                                     43.50  Rural  \n",
       "3             12285693.0                                     43.97  Rural  \n",
       "4             12256762.0                                     44.68  Rural  \n",
       "..                   ...                                       ...    ...  \n",
       "749           10871168.0                                     44.09  Urban  \n",
       "750           10806105.0                                     43.34  Urban  \n",
       "751            9299466.0                                     41.20  Urban  \n",
       "752            9240903.0                                     40.67  Urban  \n",
       "753            9088931.0                                     37.57  Urban  \n",
       "\n",
       "[740 rows x 6 columns]"
      ]
     },
     "execution_count": 36,
     "metadata": {},
     "output_type": "execute_result"
    }
   ],
   "source": [
    "data"
   ]
  },
  {
   "cell_type": "code",
   "execution_count": null,
   "id": "d2bd7948",
   "metadata": {},
   "outputs": [],
   "source": []
  },
  {
   "cell_type": "code",
   "execution_count": 37,
   "id": "4cbe1b46",
   "metadata": {},
   "outputs": [
    {
     "data": {
      "text/html": [
       "<div>\n",
       "<style scoped>\n",
       "    .dataframe tbody tr th:only-of-type {\n",
       "        vertical-align: middle;\n",
       "    }\n",
       "\n",
       "    .dataframe tbody tr th {\n",
       "        vertical-align: top;\n",
       "    }\n",
       "\n",
       "    .dataframe thead th {\n",
       "        text-align: right;\n",
       "    }\n",
       "</style>\n",
       "<table border=\"1\" class=\"dataframe\">\n",
       "  <thead>\n",
       "    <tr style=\"text-align: right;\">\n",
       "      <th></th>\n",
       "      <th>Region</th>\n",
       "      <th>Date</th>\n",
       "      <th>Estimated Unemployment Rate (%)</th>\n",
       "      <th>Estimated Employed</th>\n",
       "      <th>Estimated Labour Participation Rate (%)</th>\n",
       "      <th>Area</th>\n",
       "    </tr>\n",
       "  </thead>\n",
       "  <tbody>\n",
       "    <tr>\n",
       "      <th>0</th>\n",
       "      <td>Andhra Pradesh</td>\n",
       "      <td>31-05-2019</td>\n",
       "      <td>3.65</td>\n",
       "      <td>11999139.0</td>\n",
       "      <td>43.24</td>\n",
       "      <td>Rural</td>\n",
       "    </tr>\n",
       "    <tr>\n",
       "      <th>1</th>\n",
       "      <td>Andhra Pradesh</td>\n",
       "      <td>30-06-2019</td>\n",
       "      <td>3.05</td>\n",
       "      <td>11755881.0</td>\n",
       "      <td>42.05</td>\n",
       "      <td>Rural</td>\n",
       "    </tr>\n",
       "    <tr>\n",
       "      <th>2</th>\n",
       "      <td>Andhra Pradesh</td>\n",
       "      <td>31-07-2019</td>\n",
       "      <td>3.75</td>\n",
       "      <td>12086707.0</td>\n",
       "      <td>43.50</td>\n",
       "      <td>Rural</td>\n",
       "    </tr>\n",
       "    <tr>\n",
       "      <th>3</th>\n",
       "      <td>Andhra Pradesh</td>\n",
       "      <td>31-08-2019</td>\n",
       "      <td>3.32</td>\n",
       "      <td>12285693.0</td>\n",
       "      <td>43.97</td>\n",
       "      <td>Rural</td>\n",
       "    </tr>\n",
       "    <tr>\n",
       "      <th>4</th>\n",
       "      <td>Andhra Pradesh</td>\n",
       "      <td>30-09-2019</td>\n",
       "      <td>5.17</td>\n",
       "      <td>12256762.0</td>\n",
       "      <td>44.68</td>\n",
       "      <td>Rural</td>\n",
       "    </tr>\n",
       "    <tr>\n",
       "      <th>...</th>\n",
       "      <td>...</td>\n",
       "      <td>...</td>\n",
       "      <td>...</td>\n",
       "      <td>...</td>\n",
       "      <td>...</td>\n",
       "      <td>...</td>\n",
       "    </tr>\n",
       "    <tr>\n",
       "      <th>749</th>\n",
       "      <td>West Bengal</td>\n",
       "      <td>29-02-2020</td>\n",
       "      <td>7.55</td>\n",
       "      <td>10871168.0</td>\n",
       "      <td>44.09</td>\n",
       "      <td>Urban</td>\n",
       "    </tr>\n",
       "    <tr>\n",
       "      <th>750</th>\n",
       "      <td>West Bengal</td>\n",
       "      <td>31-03-2020</td>\n",
       "      <td>6.67</td>\n",
       "      <td>10806105.0</td>\n",
       "      <td>43.34</td>\n",
       "      <td>Urban</td>\n",
       "    </tr>\n",
       "    <tr>\n",
       "      <th>751</th>\n",
       "      <td>West Bengal</td>\n",
       "      <td>30-04-2020</td>\n",
       "      <td>15.63</td>\n",
       "      <td>9299466.0</td>\n",
       "      <td>41.20</td>\n",
       "      <td>Urban</td>\n",
       "    </tr>\n",
       "    <tr>\n",
       "      <th>752</th>\n",
       "      <td>West Bengal</td>\n",
       "      <td>31-05-2020</td>\n",
       "      <td>15.22</td>\n",
       "      <td>9240903.0</td>\n",
       "      <td>40.67</td>\n",
       "      <td>Urban</td>\n",
       "    </tr>\n",
       "    <tr>\n",
       "      <th>753</th>\n",
       "      <td>West Bengal</td>\n",
       "      <td>30-06-2020</td>\n",
       "      <td>9.86</td>\n",
       "      <td>9088931.0</td>\n",
       "      <td>37.57</td>\n",
       "      <td>Urban</td>\n",
       "    </tr>\n",
       "  </tbody>\n",
       "</table>\n",
       "<p>740 rows × 6 columns</p>\n",
       "</div>"
      ],
      "text/plain": [
       "             Region         Date   Estimated Unemployment Rate (%)  \\\n",
       "0    Andhra Pradesh   31-05-2019                              3.65   \n",
       "1    Andhra Pradesh   30-06-2019                              3.05   \n",
       "2    Andhra Pradesh   31-07-2019                              3.75   \n",
       "3    Andhra Pradesh   31-08-2019                              3.32   \n",
       "4    Andhra Pradesh   30-09-2019                              5.17   \n",
       "..              ...          ...                               ...   \n",
       "749     West Bengal   29-02-2020                              7.55   \n",
       "750     West Bengal   31-03-2020                              6.67   \n",
       "751     West Bengal   30-04-2020                             15.63   \n",
       "752     West Bengal   31-05-2020                             15.22   \n",
       "753     West Bengal   30-06-2020                              9.86   \n",
       "\n",
       "      Estimated Employed   Estimated Labour Participation Rate (%)   Area  \n",
       "0             11999139.0                                     43.24  Rural  \n",
       "1             11755881.0                                     42.05  Rural  \n",
       "2             12086707.0                                     43.50  Rural  \n",
       "3             12285693.0                                     43.97  Rural  \n",
       "4             12256762.0                                     44.68  Rural  \n",
       "..                   ...                                       ...    ...  \n",
       "749           10871168.0                                     44.09  Urban  \n",
       "750           10806105.0                                     43.34  Urban  \n",
       "751            9299466.0                                     41.20  Urban  \n",
       "752            9240903.0                                     40.67  Urban  \n",
       "753            9088931.0                                     37.57  Urban  \n",
       "\n",
       "[740 rows x 6 columns]"
      ]
     },
     "execution_count": 37,
     "metadata": {},
     "output_type": "execute_result"
    }
   ],
   "source": [
    "data"
   ]
  },
  {
   "cell_type": "code",
   "execution_count": 38,
   "id": "5877ab5e",
   "metadata": {},
   "outputs": [
    {
     "data": {
      "text/plain": [
       "(0.0, 76.74)"
      ]
     },
     "execution_count": 38,
     "metadata": {},
     "output_type": "execute_result"
    }
   ],
   "source": [
    "Estimated_Unemployment_Rate_range = (data[' Estimated Unemployment Rate (%)'].min() , data[' Estimated Unemployment Rate (%)'].max()) \n",
    "Estimated_Unemployment_Rate_range"
   ]
  },
  {
   "cell_type": "code",
   "execution_count": 40,
   "id": "e3931431",
   "metadata": {},
   "outputs": [
    {
     "data": {
      "text/plain": [
       "(array([1., 0., 0., 0., 0., 0., 0., 0., 0., 1.]),\n",
       " array([ 0.   ,  7.674, 15.348, 23.022, 30.696, 38.37 , 46.044, 53.718,\n",
       "        61.392, 69.066, 76.74 ]),\n",
       " <BarContainer object of 10 artists>)"
      ]
     },
     "execution_count": 40,
     "metadata": {},
     "output_type": "execute_result"
    },
    {
     "data": {
      "image/png": "[encoded data removed]",
      "text/plain": [
       "<Figure size 640x480 with 1 Axes>"
      ]
     },
     "metadata": {},
     "output_type": "display_data"
    }
   ],
   "source": [
    "plt.hist(Estimated_Unemployment_Rate_range)"
   ]
  },
  {
   "cell_type": "code",
   "execution_count": 41,
   "id": "7ca7479b",
   "metadata": {},
   "outputs": [
    {
     "data": {
      "image/png": "[encoded data removed]",
      "text/plain": [
       "<Figure size 640x480 with 1 Axes>"
      ]
     },
     "metadata": {},
     "output_type": "display_data"
    }
   ],
   "source": [
    "x = data[' Estimated Unemployment Rate (%)']\n",
    "plt.hist(x , bins =50 , density = False , alpha = 0.5)\n",
    "         #(x, bins=35, density=True, alpha=0.5) \n",
    "              \n",
    "plt.title('Histogram of unemployment rate Data')\n",
    "plt.xlabel('Value')\n",
    "plt.ylabel('Density')\n",
    "plt.show()"
   ]
  },
  {
   "cell_type": "code",
   "execution_count": null,
   "id": "629949b8",
   "metadata": {},
   "outputs": [],
   "source": []
  },
  {
   "cell_type": "code",
   "execution_count": null,
   "id": "ba41efef",
   "metadata": {},
   "outputs": [],
   "source": []
  },
  {
   "cell_type": "code",
   "execution_count": 65,
   "id": "ce48f615",
   "metadata": {},
   "outputs": [
    {
     "data": {
      "text/plain": [
       "array([11999139., 11755881., 12086707., 12285693., 12256762., 12017412.,\n",
       "       11397681., 12528395., 12016676., 11723617., 11359660.,  8792827.,\n",
       "        9526902., 15572975., 11749334.,  8923222.,  9911534.,  9292039.,\n",
       "       11468349.,  8395906.,  9625362., 11420996.,  8462814.,  9878742.,\n",
       "        9926176.,  7544937., 24322330., 24097712., 23248875., 22260203.,\n",
       "       23905700., 24053140., 22445989., 22914530., 23409006., 23168192.,\n",
       "       22667882., 14645275., 14050319., 20622566.,  6259019.,  6608626.,\n",
       "        6753622.,  6607694.,  6490776.,  7043840.,  6942931.,  6569385.,\n",
       "        6236201.,  6847173.,  6894808.,  6534321.,  5454091.,  5781095.,\n",
       "         169487.,   149076.,   166605.,   135407.,   166056.,   149511.,\n",
       "         178768.,   145671.,   157791.,   147500.,   152413.,   115487.,\n",
       "         129610.,   112108.,   179340.,   170471.,   167437.,   183603.,\n",
       "         163215.,   177440.,   159489.,   177155.,   158936.,   171672.,\n",
       "         181657.,   128538., 13954728., 13199281., 14327083., 13507342.,\n",
       "       13280783., 13828512., 14487815., 13877825., 14301844., 13973042.,\n",
       "       13483615.,  8587594., 11121124., 13243922.,  5249186.,  4745178.,\n",
       "        4826560.,  4558306.,  5127956.,  4798833.,  4875763.,  4603484.,\n",
       "        5062293.,  4570108.,  4366148.,  4041050.,  3914193.,  4357835.,\n",
       "        2045760.,  1957081.,  1916824.,  1969248.,  2039804.,  1946957.,\n",
       "        2024409.,  1922821.,  2041035.,  1952464.,  1800426.,   984171.,\n",
       "        1732050.,  2230075.,  2495186.,  2423742.,  2549316.,  2778624.,\n",
       "        2477621.,  2415724.,  2373488.,  2163397.,  2361004.,  2716966.,\n",
       "        2049617.,  7035766.,  7319782.,  6958404.,  7015356.,  7500122.,\n",
       "        7761243.,  7279628.,  6873437.,  7868736.,  7932402.,  7157454.,\n",
       "        4280434.,  3315038.,  6375114., 13911440., 12888490., 12169808.,\n",
       "       12686470., 13741892., 12803527., 11537217., 12756132., 13938874.,\n",
       "       12753657., 12853818.,  9330400., 10626328., 15396213.,  5184355.,\n",
       "        5605627.,  4855393.,  5233449.,  5400499.,  5328825.,  4557906.,\n",
       "        5065804.,  5307026.,  5203579.,  4141953.,  1754170.,  3799919.,\n",
       "        3952088., 15349838., 16294794., 16274707., 16559137., 16159315.,\n",
       "       17060638., 16306428., 16854647., 16183702., 16178044., 16480441.,\n",
       "       14238959., 13099601., 16748971., 23896858., 23056511., 24843750.,\n",
       "       26835389., 25219281., 24330249., 24881383., 26357625., 25881398.,\n",
       "       25293535., 23130976., 15014802., 18423447., 23601016.,  1119011.,\n",
       "        1024797.,  1158511.,  1065725.,  1162159.,  1080609.,  1205703.,\n",
       "        1102997.,  1229406.,  1112864.,  1192616.,   803118.,   992148.,\n",
       "        1150200., 11155753., 10965154., 12009883., 11727659., 11167715.,\n",
       "       11621534., 12192623., 11345069., 11182128., 11842655.,  9814156.,\n",
       "        5562449.,  9683719., 10187145.,   172474.,   184527.,   139227.,\n",
       "         183930.,   175718.,   180283.,   142787.,   180808.,   176252.,\n",
       "         183619.,   142176.,    49420.,  6088547.,  6025235.,  6308129.,\n",
       "        6183427.,  6260971.,  6021921.,  6395022.,  6164215.,  6189471.,\n",
       "        6009820.,  6373692.,  4721590.,  3727366.,  5364047., 15226005.,\n",
       "       14610564., 14859873., 15052051., 15419779., 15178544., 15278556.,\n",
       "       15485307., 15484353., 15040572., 15059769., 13051219., 15586833.,\n",
       "       16076978.,   146688.,   162426.,   161647.,   133399.,   141313.,\n",
       "       15844698., 16375303., 16455928., 16463931., 14595441., 15595647.,\n",
       "       16223430., 15356938., 14954646., 15828488., 15848590.,  5086200.,\n",
       "        5768342., 10169115., 11053353., 10728822., 11538688., 10743959.,\n",
       "       12636415., 11375354., 11265828., 11068056., 12065915., 11304474.,\n",
       "       12028377.,  8793799.,  7508747.,  8891181.,  1019549.,  1107013.,\n",
       "        1052597.,   975501.,  1034408.,  1113764.,  1084633.,  1046878.,\n",
       "        1057975.,  1169347.,  1060946.,   675083.,   911789.,  1106978.,\n",
       "       43287808., 42276572., 42697000., 43298746., 44198762., 42833265.,\n",
       "       43261530., 44640087., 45777509., 44257432., 43086706., 39970677.,\n",
       "       38640999., 41908909.,  2108044.,  2021553.,  2000524.,  1911380.,\n",
       "        2157845.,  2027662.,  2007113.,  1947566.,  1986386.,  2057523.,\n",
       "        1972074.,  1915482.,  1675441., 23452875., 25543465., 24857807.,\n",
       "       24924827., 25610773., 24353018., 25630359., 24906239., 24612171.,\n",
       "       26093009., 25097812., 17639370., 19115772., 21225887.,  4788661.,\n",
       "        4824630.,  4657443.,  4743179.,  4733996.,  4774377.,  4668772.,\n",
       "        4913963.,  4618860.,  4822035.,  4521537.,  2544084.,  3428356.,\n",
       "        4954389.,  1671707.,  1647342.,  1739838.,  1595582.,  1576480.,\n",
       "        1595176.,  1708045.,  1722303.,  1630908.,  1625454.,  1664145.,\n",
       "        1454956.,  1441722.,  1551007.,  3029344.,  3248864.,  3059744.,\n",
       "        2994763.,  2992082.,  3173429.,  3081077.,  2977857.,  2988665.,\n",
       "        3113464.,  3049637.,  1400962.,  2207026.,  3124663.,   348042.,\n",
       "         337145.,   294379.,   328282.,   327239.,   330856.,   289593.,\n",
       "         311146.,   332062.,   316887.,   279839.,   306505.,  2223129.,\n",
       "        2192020.,  2285436.,  2392400.,  2311507.,  2297096.,  2341284.,\n",
       "        2415436.,  2315972.,  2347941.,  2407509.,  1066126.,  1276291.,\n",
       "        1602231.,  5756475.,  5550172.,  5393091.,  5552510.,  5642253.,\n",
       "        6030363.,  5439600.,  5718337.,  5647493.,  5708807.,  5401392.,\n",
       "        3003787.,  2343783.,  4306807.,   264855.,   304015.,   280367.,\n",
       "         243277.,   309643.,   290264.,   271612.,   288154.,   257814.,\n",
       "         306396.,   277093.,   318957.,  9686558., 10144965.,  9828023.,\n",
       "       10228154.,  9609939., 10474217.,  9896129., 10172812.,  9824501.,\n",
       "       10784753., 10083026.,  6701284.,  6072776., 10574711.,  2693596.,\n",
       "        2845190.,  2405973.,  2523005.,  2675862.,  2821456.,  2404239.,\n",
       "        2548835.,  2630938.,  2752834.,  2275407.,  1606580.,  2013083.,\n",
       "        2304138.,   245668.,   237576.,   235894.,   236315.,   247210.,\n",
       "         232322.,   233029.,   241366.,   246596.,   227804.,   221432.,\n",
       "         146957.,   134868.,   224902.,  1130139.,  1139815.,  1183770.,\n",
       "        1029087.,  1226793.,  1209085.,  1079537.,  1060116.,   998103.,\n",
       "         937435.,  2404033.,  2326911.,  2434579.,  2335406.,  2357627.,\n",
       "        2460196.,  2424281.,  2290170.,  2329293.,  2493023.,  2480661.,\n",
       "        1054829.,   830347.,  2244460.,  8638239.,  8862498.,  8738029.,\n",
       "        8614340.,  8647794.,  8799249.,  8613835.,  8592376.,  8749154.,\n",
       "        8924061.,  9225835.,  7387995.,  8669258.,  8822411.,  4605913.,\n",
       "        4678374.,  4105211.,  4448650.,  4640642.,  4644510.,  4062767.,\n",
       "        4440283.,  4597507.,  4624444.,  4079775.,  2179106.,  2826118.,\n",
       "        4601293.,  6692720.,  6509340.,  6266446.,  6809834.,  6655967.,\n",
       "        6603715.,  6459457.,  6787403.,  6834930.,  6533435.,  6386723.,\n",
       "        4802873.,  3879934.,  6221562., 16962574., 17375053., 17215677.,\n",
       "       16602767., 17396398., 17221991., 17486683., 16581144., 16715470.,\n",
       "       17122782., 17065830., 12674451., 12365754., 16172690.,   228978.,\n",
       "         231252.,   284015.,   259433.,   253887.,   234375.,   293431.,\n",
       "         267417.,   261687.,   233965.,   289735.,   161939.,   222916.,\n",
       "        2519582.,  2356290.,  2542237.,  2456983.,  2570663.,  2456855.,\n",
       "        2594469.,  2369048.,  2561320.,  2438080.,  2457952.,  1303244.,\n",
       "        1975481.,  2221069.,   283905.,   304369.,   281117.,   312882.,\n",
       "         286573.,   312548.,   275003.,   313135.,   281698.,   310342.,\n",
       "         278851.,    68122.,    64538.,   234926.,  3289918.,  3307798.,\n",
       "        3592442.,  3499863.,  3227178.,  3070438.,  3602243.,  3575778.,\n",
       "        3252622.,  3219227.,  3601793.,  2298975.,  2682658.,  3047750.,\n",
       "        5108436.,  5241174.,  5372470.,  5195170.,  5176819.,  5384335.,\n",
       "        5306715.,  5109481.,  5157363.,  5288343.,  4964911.,  2932923.,\n",
       "        4225486.,  5275784.,    89587.,    89702.,   108334.,    90850.,\n",
       "          89450.,    87974.,   107751.,    88035.,    86186.,    81905.,\n",
       "          75456.,    76269., 11798080., 12318745., 12054414., 11933093.,\n",
       "       11902824., 12223948., 11729952., 12260389., 11926995., 11742101.,\n",
       "       10982178.,  4632967.,  5733921.,  7741005.,  5560649.,  5683349.,\n",
       "        5432503.,  5544693.,  5668785.,  5318341.,  5338119.,  5317782.,\n",
       "        5543380.,  5521496.,  5313236.,  3378431.,  3108830.,  4577995.,\n",
       "         423127.,   408738.,   410583.,   368977.,   418043.,   414808.,\n",
       "         427700.,   399427.,   450155.,   415339.,   450271.,   296431.,\n",
       "         384999.,   391015., 13391244., 13624452., 13862431., 13580241.,\n",
       "       13522970., 13938303., 14128888., 13857200., 13656250., 13803099.,\n",
       "       13889632., 10944379., 11111486., 13208724.,   676797.,   906889.,\n",
       "         859900.,   823967.,   711150.,   925174.,   904903.,   844779.,\n",
       "         725253.,   963408.,   889245.,   748041.,   778590.,   989470.,\n",
       "       11306177., 10611498., 10779829., 11456493., 11158649., 10563686.,\n",
       "       10768462., 11335696., 11208617., 10871168., 10806105.,  9299466.,\n",
       "        9240903.,  9088931.])"
      ]
     },
     "execution_count": 65,
     "metadata": {},
     "output_type": "execute_result"
    }
   ],
   "source": [
    "data[' Estimated Employed'].unique()"
   ]
  },
  {
   "cell_type": "code",
   "execution_count": 42,
   "id": "9713edc4",
   "metadata": {},
   "outputs": [
    {
     "data": {
      "image/png": "[encoded data removed]",
      "text/plain": [
       "<Figure size 640x480 with 1 Axes>"
      ]
     },
     "metadata": {},
     "output_type": "display_data"
    }
   ],
   "source": [
    "#x = data[' Estimated Unemployment Rate (%)']\n",
    "plt.hist(data[' Estimated Employed'] , bins =100 , density = False , alpha = 0.5)\n",
    "         #(x, bins=35, density=True, alpha=0.5) \n",
    "              \n",
    "plt.title('Histogram of Estimated Employed rate Data')\n",
    "plt.xlabel('Value')\n",
    "plt.ylabel('Density')\n",
    "plt.show()"
   ]
  },
  {
   "cell_type": "code",
   "execution_count": 43,
   "id": "aa093299",
   "metadata": {},
   "outputs": [
    {
     "data": {
      "text/plain": [
       "(49420.0, 45777509.0)"
      ]
     },
     "execution_count": 43,
     "metadata": {},
     "output_type": "execute_result"
    }
   ],
   "source": [
    "# get range of Estimated Employed feature \n",
    "Estimated_Employed_range = (data[' Estimated Employed'].min() , data[' Estimated Employed'].max() )\n",
    "Estimated_Employed_range"
   ]
  },
  {
   "cell_type": "code",
   "execution_count": 44,
   "id": "e2a8df3f",
   "metadata": {},
   "outputs": [
    {
     "data": {
      "text/plain": [
       "(array([1., 0., 0., 0., 0., 0., 0., 0., 0., 1.]),\n",
       " array([   49420. ,  4622228.9,  9195037.8, 13767846.7, 18340655.6,\n",
       "        22913464.5, 27486273.4, 32059082.3, 36631891.2, 41204700.1,\n",
       "        45777509. ]),\n",
       " <BarContainer object of 10 artists>)"
      ]
     },
     "execution_count": 44,
     "metadata": {},
     "output_type": "execute_result"
    },
    {
     "data": {
      "image/png": "[encoded data removed]",
      "text/plain": [
       "<Figure size 640x480 with 1 Axes>"
      ]
     },
     "metadata": {},
     "output_type": "display_data"
    }
   ],
   "source": [
    "plt.hist(Estimated_Employed_range)"
   ]
  },
  {
   "cell_type": "code",
   "execution_count": 46,
   "id": "1121a9ec",
   "metadata": {},
   "outputs": [
    {
     "data": {
      "text/plain": [
       "(13.33, 72.57)"
      ]
     },
     "execution_count": 46,
     "metadata": {},
     "output_type": "execute_result"
    }
   ],
   "source": [
    "Estimated_participation_range = (data[' Estimated Labour Participation Rate (%)'].min(),data[' Estimated Labour Participation Rate (%)'].max())\n",
    "Estimated_participation_range"
   ]
  },
  {
   "cell_type": "code",
   "execution_count": 47,
   "id": "2de5afef",
   "metadata": {},
   "outputs": [
    {
     "data": {
      "text/plain": [
       "(array([1., 0., 0., 0., 0., 0., 0., 0., 0., 1.]),\n",
       " array([13.33 , 19.254, 25.178, 31.102, 37.026, 42.95 , 48.874, 54.798,\n",
       "        60.722, 66.646, 72.57 ]),\n",
       " <BarContainer object of 10 artists>)"
      ]
     },
     "execution_count": 47,
     "metadata": {},
     "output_type": "execute_result"
    },
    {
     "data": {
      "image/png": "[encoded data removed]",
      "text/plain": [
       "<Figure size 640x480 with 1 Axes>"
      ]
     },
     "metadata": {},
     "output_type": "display_data"
    }
   ],
   "source": [
    "plt.hist(Estimated_participation_range)"
   ]
  },
  {
   "cell_type": "code",
   "execution_count": 48,
   "id": "de111b7f",
   "metadata": {},
   "outputs": [
    {
     "data": {
      "image/png": "[encoded data removed]",
      "text/plain": [
       "<Figure size 640x480 with 1 Axes>"
      ]
     },
     "metadata": {},
     "output_type": "display_data"
    }
   ],
   "source": [
    "plt.hist(data[' Estimated Labour Participation Rate (%)'] , bins =50 , density = True , alpha = 0.5)\n",
    "         #(x, bins=35, density=True, alpha=0.5) \n",
    "              \n",
    "plt.title('Histogram of Estimated participation  rate Data')\n",
    "plt.xlabel('Value')\n",
    "plt.ylabel('Density')\n",
    "plt.show()"
   ]
  },
  {
   "cell_type": "code",
   "execution_count": null,
   "id": "f4f4efbb",
   "metadata": {},
   "outputs": [],
   "source": []
  },
  {
   "cell_type": "code",
   "execution_count": 49,
   "id": "c8c6fea8",
   "metadata": {},
   "outputs": [
    {
     "data": {
      "text/plain": [
       "array(['Rural', 'Urban'], dtype=object)"
      ]
     },
     "execution_count": 49,
     "metadata": {},
     "output_type": "execute_result"
    }
   ],
   "source": [
    "data['Area'].unique()"
   ]
  },
  {
   "cell_type": "code",
   "execution_count": 50,
   "id": "d616e82d",
   "metadata": {},
   "outputs": [
    {
     "data": {
      "text/plain": [
       "Urban    381\n",
       "Rural    359\n",
       "Name: Area, dtype: int64"
      ]
     },
     "execution_count": 50,
     "metadata": {},
     "output_type": "execute_result"
    }
   ],
   "source": [
    "data['Area'].value_counts()"
   ]
  },
  {
   "cell_type": "code",
   "execution_count": 51,
   "id": "9365b098",
   "metadata": {},
   "outputs": [],
   "source": [
    "catg= list(dict(data['Area'].value_counts()).keys())\n",
    "catg_val = list(dict(data['Area'].value_counts()).values())"
   ]
  },
  {
   "cell_type": "code",
   "execution_count": 52,
   "id": "4ca0769a",
   "metadata": {},
   "outputs": [
    {
     "data": {
      "image/png": "[encoded data removed]",
      "text/plain": [
       "<Figure size 640x480 with 1 Axes>"
      ]
     },
     "metadata": {},
     "output_type": "display_data"
    }
   ],
   "source": [
    "plt.pie(catg_val, labels=catg,autopct='%1.1f%%')\n",
    "\n",
    "plt.title('Distribution of Categories')\n",
    "\n",
    "plt.show()"
   ]
  },
  {
   "cell_type": "code",
   "execution_count": 57,
   "id": "9d609a33",
   "metadata": {},
   "outputs": [
    {
     "data": {
      "text/plain": [
       "<pandas.core.groupby.generic.DataFrameGroupBy object at 0x000001D1ADEF84C0>"
      ]
     },
     "execution_count": 57,
     "metadata": {},
     "output_type": "execute_result"
    }
   ],
   "source": [
    "data.groupby('Area')"
   ]
  },
  {
   "cell_type": "code",
   "execution_count": 61,
   "id": "cab67018",
   "metadata": {},
   "outputs": [
    {
     "data": {
      "text/plain": [
       "Area\n",
       "Rural    10.324791\n",
       "Urban    13.166614\n",
       "Name:  Estimated Unemployment Rate (%), dtype: float64"
      ]
     },
     "execution_count": 61,
     "metadata": {},
     "output_type": "execute_result"
    }
   ],
   "source": [
    "area_counts = data.groupby(['Area'])[' Estimated Unemployment Rate (%)'].mean()\n",
    "area_counts"
   ]
  },
  {
   "cell_type": "code",
   "execution_count": 66,
   "id": "8c2cbf00",
   "metadata": {},
   "outputs": [
    {
     "data": {
      "text/plain": [
       "[10.32, 13.16]"
      ]
     },
     "execution_count": 66,
     "metadata": {},
     "output_type": "execute_result"
    }
   ],
   "source": [
    "val = [10.32 , 13.16]\n",
    "val"
   ]
  },
  {
   "cell_type": "code",
   "execution_count": 68,
   "id": "c9dd2782",
   "metadata": {},
   "outputs": [
    {
     "data": {
      "image/png": "[encoded data removed]",
      "text/plain": [
       "<Figure size 640x480 with 1 Axes>"
      ]
     },
     "metadata": {},
     "output_type": "display_data"
    }
   ],
   "source": [
    "plt.bar(area_counts.keys() , val)\n",
    "plt.title(\"Area & mean rate of unemployment\")\n",
    "plt.show()"
   ]
  },
  {
   "cell_type": "markdown",
   "id": "9a5bcdb2",
   "metadata": {},
   "source": [
    "# 2nd Data "
   ]
  },
  {
   "cell_type": "code",
   "execution_count": 70,
   "id": "8f610ab4",
   "metadata": {},
   "outputs": [
    {
     "data": {
      "text/html": [
       "<div>\n",
       "<style scoped>\n",
       "    .dataframe tbody tr th:only-of-type {\n",
       "        vertical-align: middle;\n",
       "    }\n",
       "\n",
       "    .dataframe tbody tr th {\n",
       "        vertical-align: top;\n",
       "    }\n",
       "\n",
       "    .dataframe thead th {\n",
       "        text-align: right;\n",
       "    }\n",
       "</style>\n",
       "<table border=\"1\" class=\"dataframe\">\n",
       "  <thead>\n",
       "    <tr style=\"text-align: right;\">\n",
       "      <th></th>\n",
       "      <th>Region</th>\n",
       "      <th>Date</th>\n",
       "      <th>Frequency</th>\n",
       "      <th>Estimated Unemployment Rate (%)</th>\n",
       "      <th>Estimated Employed</th>\n",
       "      <th>Estimated Labour Participation Rate (%)</th>\n",
       "      <th>Region.1</th>\n",
       "      <th>longitude</th>\n",
       "      <th>latitude</th>\n",
       "    </tr>\n",
       "  </thead>\n",
       "  <tbody>\n",
       "    <tr>\n",
       "      <th>0</th>\n",
       "      <td>Andhra Pradesh</td>\n",
       "      <td>31-01-2020</td>\n",
       "      <td>M</td>\n",
       "      <td>5.48</td>\n",
       "      <td>16635535</td>\n",
       "      <td>41.02</td>\n",
       "      <td>South</td>\n",
       "      <td>15.9129</td>\n",
       "      <td>79.740</td>\n",
       "    </tr>\n",
       "    <tr>\n",
       "      <th>1</th>\n",
       "      <td>Andhra Pradesh</td>\n",
       "      <td>29-02-2020</td>\n",
       "      <td>M</td>\n",
       "      <td>5.83</td>\n",
       "      <td>16545652</td>\n",
       "      <td>40.90</td>\n",
       "      <td>South</td>\n",
       "      <td>15.9129</td>\n",
       "      <td>79.740</td>\n",
       "    </tr>\n",
       "    <tr>\n",
       "      <th>2</th>\n",
       "      <td>Andhra Pradesh</td>\n",
       "      <td>31-03-2020</td>\n",
       "      <td>M</td>\n",
       "      <td>5.79</td>\n",
       "      <td>15881197</td>\n",
       "      <td>39.18</td>\n",
       "      <td>South</td>\n",
       "      <td>15.9129</td>\n",
       "      <td>79.740</td>\n",
       "    </tr>\n",
       "    <tr>\n",
       "      <th>3</th>\n",
       "      <td>Andhra Pradesh</td>\n",
       "      <td>30-04-2020</td>\n",
       "      <td>M</td>\n",
       "      <td>20.51</td>\n",
       "      <td>11336911</td>\n",
       "      <td>33.10</td>\n",
       "      <td>South</td>\n",
       "      <td>15.9129</td>\n",
       "      <td>79.740</td>\n",
       "    </tr>\n",
       "    <tr>\n",
       "      <th>4</th>\n",
       "      <td>Andhra Pradesh</td>\n",
       "      <td>31-05-2020</td>\n",
       "      <td>M</td>\n",
       "      <td>17.43</td>\n",
       "      <td>12988845</td>\n",
       "      <td>36.46</td>\n",
       "      <td>South</td>\n",
       "      <td>15.9129</td>\n",
       "      <td>79.740</td>\n",
       "    </tr>\n",
       "    <tr>\n",
       "      <th>...</th>\n",
       "      <td>...</td>\n",
       "      <td>...</td>\n",
       "      <td>...</td>\n",
       "      <td>...</td>\n",
       "      <td>...</td>\n",
       "      <td>...</td>\n",
       "      <td>...</td>\n",
       "      <td>...</td>\n",
       "      <td>...</td>\n",
       "    </tr>\n",
       "    <tr>\n",
       "      <th>262</th>\n",
       "      <td>West Bengal</td>\n",
       "      <td>30-06-2020</td>\n",
       "      <td>M</td>\n",
       "      <td>7.29</td>\n",
       "      <td>30726310</td>\n",
       "      <td>40.39</td>\n",
       "      <td>East</td>\n",
       "      <td>22.9868</td>\n",
       "      <td>87.855</td>\n",
       "    </tr>\n",
       "    <tr>\n",
       "      <th>263</th>\n",
       "      <td>West Bengal</td>\n",
       "      <td>31-07-2020</td>\n",
       "      <td>M</td>\n",
       "      <td>6.83</td>\n",
       "      <td>35372506</td>\n",
       "      <td>46.17</td>\n",
       "      <td>East</td>\n",
       "      <td>22.9868</td>\n",
       "      <td>87.855</td>\n",
       "    </tr>\n",
       "    <tr>\n",
       "      <th>264</th>\n",
       "      <td>West Bengal</td>\n",
       "      <td>31-08-2020</td>\n",
       "      <td>M</td>\n",
       "      <td>14.87</td>\n",
       "      <td>33298644</td>\n",
       "      <td>47.48</td>\n",
       "      <td>East</td>\n",
       "      <td>22.9868</td>\n",
       "      <td>87.855</td>\n",
       "    </tr>\n",
       "    <tr>\n",
       "      <th>265</th>\n",
       "      <td>West Bengal</td>\n",
       "      <td>30-09-2020</td>\n",
       "      <td>M</td>\n",
       "      <td>9.35</td>\n",
       "      <td>35707239</td>\n",
       "      <td>47.73</td>\n",
       "      <td>East</td>\n",
       "      <td>22.9868</td>\n",
       "      <td>87.855</td>\n",
       "    </tr>\n",
       "    <tr>\n",
       "      <th>266</th>\n",
       "      <td>West Bengal</td>\n",
       "      <td>31-10-2020</td>\n",
       "      <td>M</td>\n",
       "      <td>9.98</td>\n",
       "      <td>33962549</td>\n",
       "      <td>45.63</td>\n",
       "      <td>East</td>\n",
       "      <td>22.9868</td>\n",
       "      <td>87.855</td>\n",
       "    </tr>\n",
       "  </tbody>\n",
       "</table>\n",
       "<p>267 rows × 9 columns</p>\n",
       "</div>"
      ],
      "text/plain": [
       "             Region         Date  Frequency   Estimated Unemployment Rate (%)  \\\n",
       "0    Andhra Pradesh   31-01-2020          M                              5.48   \n",
       "1    Andhra Pradesh   29-02-2020          M                              5.83   \n",
       "2    Andhra Pradesh   31-03-2020          M                              5.79   \n",
       "3    Andhra Pradesh   30-04-2020          M                             20.51   \n",
       "4    Andhra Pradesh   31-05-2020          M                             17.43   \n",
       "..              ...          ...        ...                               ...   \n",
       "262     West Bengal   30-06-2020          M                              7.29   \n",
       "263     West Bengal   31-07-2020          M                              6.83   \n",
       "264     West Bengal   31-08-2020          M                             14.87   \n",
       "265     West Bengal   30-09-2020          M                              9.35   \n",
       "266     West Bengal   31-10-2020          M                              9.98   \n",
       "\n",
       "      Estimated Employed   Estimated Labour Participation Rate (%) Region.1  \\\n",
       "0               16635535                                     41.02    South   \n",
       "1               16545652                                     40.90    South   \n",
       "2               15881197                                     39.18    South   \n",
       "3               11336911                                     33.10    South   \n",
       "4               12988845                                     36.46    South   \n",
       "..                   ...                                       ...      ...   \n",
       "262             30726310                                     40.39     East   \n",
       "263             35372506                                     46.17     East   \n",
       "264             33298644                                     47.48     East   \n",
       "265             35707239                                     47.73     East   \n",
       "266             33962549                                     45.63     East   \n",
       "\n",
       "     longitude  latitude  \n",
       "0      15.9129    79.740  \n",
       "1      15.9129    79.740  \n",
       "2      15.9129    79.740  \n",
       "3      15.9129    79.740  \n",
       "4      15.9129    79.740  \n",
       "..         ...       ...  \n",
       "262    22.9868    87.855  \n",
       "263    22.9868    87.855  \n",
       "264    22.9868    87.855  \n",
       "265    22.9868    87.855  \n",
       "266    22.9868    87.855  \n",
       "\n",
       "[267 rows x 9 columns]"
      ]
     },
     "execution_count": 70,
     "metadata": {},
     "output_type": "execute_result"
    }
   ],
   "source": [
    "df = pd.read_csv('D:\\\\Oasis Infobyte Internship\\\\Task2\\\\data2.csv')\n",
    "df"
   ]
  },
  {
   "cell_type": "code",
   "execution_count": 71,
   "id": "05f01385",
   "metadata": {},
   "outputs": [
    {
     "data": {
      "text/plain": [
       "Index(['Region', ' Date', ' Frequency', ' Estimated Unemployment Rate (%)',\n",
       "       ' Estimated Employed', ' Estimated Labour Participation Rate (%)',\n",
       "       'Region.1', 'longitude', 'latitude'],\n",
       "      dtype='object')"
      ]
     },
     "execution_count": 71,
     "metadata": {},
     "output_type": "execute_result"
    }
   ],
   "source": [
    "df.columns"
   ]
  },
  {
   "cell_type": "code",
   "execution_count": 74,
   "id": "03b21317",
   "metadata": {},
   "outputs": [
    {
     "data": {
      "text/plain": [
       "array([' M'], dtype=object)"
      ]
     },
     "execution_count": 74,
     "metadata": {},
     "output_type": "execute_result"
    }
   ],
   "source": [
    "df[' Frequency'].unique()"
   ]
  },
  {
   "cell_type": "code",
   "execution_count": 75,
   "id": "1726f73e",
   "metadata": {},
   "outputs": [
    {
     "data": {
      "text/html": [
       "<div>\n",
       "<style scoped>\n",
       "    .dataframe tbody tr th:only-of-type {\n",
       "        vertical-align: middle;\n",
       "    }\n",
       "\n",
       "    .dataframe tbody tr th {\n",
       "        vertical-align: top;\n",
       "    }\n",
       "\n",
       "    .dataframe thead th {\n",
       "        text-align: right;\n",
       "    }\n",
       "</style>\n",
       "<table border=\"1\" class=\"dataframe\">\n",
       "  <thead>\n",
       "    <tr style=\"text-align: right;\">\n",
       "      <th></th>\n",
       "      <th>Region</th>\n",
       "      <th>Date</th>\n",
       "      <th>Estimated Unemployment Rate (%)</th>\n",
       "      <th>Estimated Employed</th>\n",
       "      <th>Estimated Labour Participation Rate (%)</th>\n",
       "      <th>Region.1</th>\n",
       "      <th>longitude</th>\n",
       "      <th>latitude</th>\n",
       "    </tr>\n",
       "  </thead>\n",
       "  <tbody>\n",
       "    <tr>\n",
       "      <th>0</th>\n",
       "      <td>Andhra Pradesh</td>\n",
       "      <td>31-01-2020</td>\n",
       "      <td>5.48</td>\n",
       "      <td>16635535</td>\n",
       "      <td>41.02</td>\n",
       "      <td>South</td>\n",
       "      <td>15.9129</td>\n",
       "      <td>79.740</td>\n",
       "    </tr>\n",
       "    <tr>\n",
       "      <th>1</th>\n",
       "      <td>Andhra Pradesh</td>\n",
       "      <td>29-02-2020</td>\n",
       "      <td>5.83</td>\n",
       "      <td>16545652</td>\n",
       "      <td>40.90</td>\n",
       "      <td>South</td>\n",
       "      <td>15.9129</td>\n",
       "      <td>79.740</td>\n",
       "    </tr>\n",
       "    <tr>\n",
       "      <th>2</th>\n",
       "      <td>Andhra Pradesh</td>\n",
       "      <td>31-03-2020</td>\n",
       "      <td>5.79</td>\n",
       "      <td>15881197</td>\n",
       "      <td>39.18</td>\n",
       "      <td>South</td>\n",
       "      <td>15.9129</td>\n",
       "      <td>79.740</td>\n",
       "    </tr>\n",
       "    <tr>\n",
       "      <th>3</th>\n",
       "      <td>Andhra Pradesh</td>\n",
       "      <td>30-04-2020</td>\n",
       "      <td>20.51</td>\n",
       "      <td>11336911</td>\n",
       "      <td>33.10</td>\n",
       "      <td>South</td>\n",
       "      <td>15.9129</td>\n",
       "      <td>79.740</td>\n",
       "    </tr>\n",
       "    <tr>\n",
       "      <th>4</th>\n",
       "      <td>Andhra Pradesh</td>\n",
       "      <td>31-05-2020</td>\n",
       "      <td>17.43</td>\n",
       "      <td>12988845</td>\n",
       "      <td>36.46</td>\n",
       "      <td>South</td>\n",
       "      <td>15.9129</td>\n",
       "      <td>79.740</td>\n",
       "    </tr>\n",
       "    <tr>\n",
       "      <th>...</th>\n",
       "      <td>...</td>\n",
       "      <td>...</td>\n",
       "      <td>...</td>\n",
       "      <td>...</td>\n",
       "      <td>...</td>\n",
       "      <td>...</td>\n",
       "      <td>...</td>\n",
       "      <td>...</td>\n",
       "    </tr>\n",
       "    <tr>\n",
       "      <th>262</th>\n",
       "      <td>West Bengal</td>\n",
       "      <td>30-06-2020</td>\n",
       "      <td>7.29</td>\n",
       "      <td>30726310</td>\n",
       "      <td>40.39</td>\n",
       "      <td>East</td>\n",
       "      <td>22.9868</td>\n",
       "      <td>87.855</td>\n",
       "    </tr>\n",
       "    <tr>\n",
       "      <th>263</th>\n",
       "      <td>West Bengal</td>\n",
       "      <td>31-07-2020</td>\n",
       "      <td>6.83</td>\n",
       "      <td>35372506</td>\n",
       "      <td>46.17</td>\n",
       "      <td>East</td>\n",
       "      <td>22.9868</td>\n",
       "      <td>87.855</td>\n",
       "    </tr>\n",
       "    <tr>\n",
       "      <th>264</th>\n",
       "      <td>West Bengal</td>\n",
       "      <td>31-08-2020</td>\n",
       "      <td>14.87</td>\n",
       "      <td>33298644</td>\n",
       "      <td>47.48</td>\n",
       "      <td>East</td>\n",
       "      <td>22.9868</td>\n",
       "      <td>87.855</td>\n",
       "    </tr>\n",
       "    <tr>\n",
       "      <th>265</th>\n",
       "      <td>West Bengal</td>\n",
       "      <td>30-09-2020</td>\n",
       "      <td>9.35</td>\n",
       "      <td>35707239</td>\n",
       "      <td>47.73</td>\n",
       "      <td>East</td>\n",
       "      <td>22.9868</td>\n",
       "      <td>87.855</td>\n",
       "    </tr>\n",
       "    <tr>\n",
       "      <th>266</th>\n",
       "      <td>West Bengal</td>\n",
       "      <td>31-10-2020</td>\n",
       "      <td>9.98</td>\n",
       "      <td>33962549</td>\n",
       "      <td>45.63</td>\n",
       "      <td>East</td>\n",
       "      <td>22.9868</td>\n",
       "      <td>87.855</td>\n",
       "    </tr>\n",
       "  </tbody>\n",
       "</table>\n",
       "<p>267 rows × 8 columns</p>\n",
       "</div>"
      ],
      "text/plain": [
       "             Region         Date   Estimated Unemployment Rate (%)  \\\n",
       "0    Andhra Pradesh   31-01-2020                              5.48   \n",
       "1    Andhra Pradesh   29-02-2020                              5.83   \n",
       "2    Andhra Pradesh   31-03-2020                              5.79   \n",
       "3    Andhra Pradesh   30-04-2020                             20.51   \n",
       "4    Andhra Pradesh   31-05-2020                             17.43   \n",
       "..              ...          ...                               ...   \n",
       "262     West Bengal   30-06-2020                              7.29   \n",
       "263     West Bengal   31-07-2020                              6.83   \n",
       "264     West Bengal   31-08-2020                             14.87   \n",
       "265     West Bengal   30-09-2020                              9.35   \n",
       "266     West Bengal   31-10-2020                              9.98   \n",
       "\n",
       "      Estimated Employed   Estimated Labour Participation Rate (%) Region.1  \\\n",
       "0               16635535                                     41.02    South   \n",
       "1               16545652                                     40.90    South   \n",
       "2               15881197                                     39.18    South   \n",
       "3               11336911                                     33.10    South   \n",
       "4               12988845                                     36.46    South   \n",
       "..                   ...                                       ...      ...   \n",
       "262             30726310                                     40.39     East   \n",
       "263             35372506                                     46.17     East   \n",
       "264             33298644                                     47.48     East   \n",
       "265             35707239                                     47.73     East   \n",
       "266             33962549                                     45.63     East   \n",
       "\n",
       "     longitude  latitude  \n",
       "0      15.9129    79.740  \n",
       "1      15.9129    79.740  \n",
       "2      15.9129    79.740  \n",
       "3      15.9129    79.740  \n",
       "4      15.9129    79.740  \n",
       "..         ...       ...  \n",
       "262    22.9868    87.855  \n",
       "263    22.9868    87.855  \n",
       "264    22.9868    87.855  \n",
       "265    22.9868    87.855  \n",
       "266    22.9868    87.855  \n",
       "\n",
       "[267 rows x 8 columns]"
      ]
     },
     "execution_count": 75,
     "metadata": {},
     "output_type": "execute_result"
    }
   ],
   "source": [
    "df = df.drop(columns = [' Frequency'])\n",
    "df"
   ]
  },
  {
   "cell_type": "code",
   "execution_count": 78,
   "id": "1d526dbf",
   "metadata": {},
   "outputs": [
    {
     "data": {
      "text/plain": [
       "Region\n",
       "Andhra Pradesh       8.664000\n",
       "Assam                4.856000\n",
       "Bihar               19.471000\n",
       "Chhattisgarh         7.819000\n",
       "Delhi               18.414000\n",
       "Goa                 12.167000\n",
       "Gujarat              6.376000\n",
       "Haryana             27.477000\n",
       "Himachal Pradesh    16.065000\n",
       "Jammu & Kashmir     16.477778\n",
       "Jharkhand           19.539000\n",
       "Karnataka            7.668000\n",
       "Kerala               9.434000\n",
       "Madhya Pradesh       6.854000\n",
       "Maharashtra          7.979000\n",
       "Meghalaya            3.866000\n",
       "Odisha               6.462000\n",
       "Puducherry          17.942000\n",
       "Punjab              11.981000\n",
       "Rajasthan           15.868000\n",
       "Sikkim               9.792500\n",
       "Tamil Nadu          12.187000\n",
       "Telangana            6.833000\n",
       "Tripura             25.055000\n",
       "Uttar Pradesh        9.737000\n",
       "Uttarakhand         11.156000\n",
       "West Bengal         10.192000\n",
       "Name:  Estimated Unemployment Rate (%), dtype: float64"
      ]
     },
     "execution_count": 78,
     "metadata": {},
     "output_type": "execute_result"
    }
   ],
   "source": [
    "region_counts = df.groupby(['Region'])[' Estimated Unemployment Rate (%)'].mean()\n",
    "region_counts"
   ]
  },
  {
   "cell_type": "code",
   "execution_count": 89,
   "id": "94f13376",
   "metadata": {},
   "outputs": [],
   "source": [
    "#list(region_counts.keys())\n",
    "vall = list(dict(region_counts).values())"
   ]
  },
  {
   "cell_type": "code",
   "execution_count": 90,
   "id": "c48489e8",
   "metadata": {},
   "outputs": [
    {
     "data": {
      "image/png": "[encoded data removed]",
      "text/plain": [
       "<Figure size 640x480 with 1 Axes>"
      ]
     },
     "metadata": {},
     "output_type": "display_data"
    }
   ],
   "source": [
    "plt.bar(region_counts.keys() , vall)\n",
    "plt.title(\"Region  & mean rate of unemployment\")\n",
    "plt.show()"
   ]
  },
  {
   "cell_type": "code",
   "execution_count": 91,
   "id": "f884d7e1",
   "metadata": {},
   "outputs": [
    {
     "data": {
      "text/plain": [
       "Index(['Region', ' Date', ' Estimated Unemployment Rate (%)',\n",
       "       ' Estimated Employed', ' Estimated Labour Participation Rate (%)',\n",
       "       'Region.1', 'longitude', 'latitude'],\n",
       "      dtype='object')"
      ]
     },
     "execution_count": 91,
     "metadata": {},
     "output_type": "execute_result"
    }
   ],
   "source": [
    "df.columns"
   ]
  },
  {
   "cell_type": "code",
   "execution_count": 95,
   "id": "e192fcee",
   "metadata": {},
   "outputs": [
    {
     "data": {
      "text/plain": [
       "13962105.722846443"
      ]
     },
     "execution_count": 95,
     "metadata": {},
     "output_type": "execute_result"
    }
   ],
   "source": [
    "df[' Estimated Employed'].mean()"
   ]
  },
  {
   "cell_type": "code",
   "execution_count": 96,
   "id": "aefdd0d2",
   "metadata": {},
   "outputs": [
    {
     "data": {
      "text/plain": [
       "41.68157303370787"
      ]
     },
     "execution_count": 96,
     "metadata": {},
     "output_type": "execute_result"
    }
   ],
   "source": [
    "df[' Estimated Labour Participation Rate (%)'].mean()"
   ]
  },
  {
   "cell_type": "code",
   "execution_count": 97,
   "id": "d4d31146",
   "metadata": {},
   "outputs": [
    {
     "data": {
      "image/png": "[encoded data removed]",
      "text/plain": [
       "<Figure size 640x480 with 1 Axes>"
      ]
     },
     "metadata": {},
     "output_type": "display_data"
    }
   ],
   "source": [
    "plt.hist(df[' Estimated Unemployment Rate (%)'])\n",
    "plt.title(\"Estimated Unemployment Rate (%)\")\n",
    "plt.show()"
   ]
  },
  {
   "cell_type": "code",
   "execution_count": null,
   "id": "81076382",
   "metadata": {},
   "outputs": [],
   "source": []
  }
 ],
 "metadata": {
  "kernelspec": {
   "display_name": "Python 3 (ipykernel)",
   "language": "python",
   "name": "python3"
  },
  "language_info": {
   "codemirror_mode": {
    "name": "ipython",
    "version": 3
   },
   "file_extension": ".py",
   "mimetype": "text/x-python",
   "name": "python",
   "nbconvert_exporter": "python",
   "pygments_lexer": "ipython3",
   "version": "3.9.13"
  }
 },
 "nbformat": 4,
 "nbformat_minor": 5
}
